{
  "nbformat": 4,
  "nbformat_minor": 0,
  "metadata": {
    "colab": {
      "provenance": []
    },
    "kernelspec": {
      "name": "python3",
      "display_name": "Python 3"
    },
    "language_info": {
      "name": "python"
    }
  },
  "cells": [
    {
      "cell_type": "markdown",
      "source": [
        "\n",
        "\n",
        "---\n",
        "\n",
        "# HTML BASICS"
      ],
      "metadata": {
        "id": "ydwtYOsUJ2Gd"
      }
    },
    {
      "cell_type": "markdown",
      "source": [
        "Question 1. Explain the basic structure of an HTML  page. Why is  it important to follow this structure?\n",
        "\n",
        " - here is the basic structure of an HTMl page -\n",
        "\n"
      ],
      "metadata": {
        "id": "7aRhGZbdKCZa"
      }
    },
    {
      "cell_type": "code",
      "source": [
        "%%html\n",
        "<!DOCTYPE html>\n",
        "<html lang=\"en\">\n",
        "<head>\n",
        "    <meta charset=\"UTF-8\">\n",
        "    <meta name=\"viewport\" content=\"width=device-width, initial-scale=1.0\">\n",
        "    <title> TRIBUTE PAGE  </title>\n",
        "</head>"
      ],
      "metadata": {
        "id": "GHLo6JKNMWoN",
        "colab": {
          "base_uri": "https://localhost:8080/",
          "height": 17
        },
        "outputId": "6915e065-6a89-4210-ac9e-54212ef6b867"
      },
      "execution_count": null,
      "outputs": [
        {
          "output_type": "display_data",
          "data": {
            "text/plain": [
              "<IPython.core.display.HTML object>"
            ],
            "text/html": [
              "<!DOCTYPE html>\n",
              "<html lang=\"en\">\n",
              "<head>\n",
              "    <meta charset=\"UTF-8\">\n",
              "    <meta name=\"viewport\" content=\"width=device-width, initial-scale=1.0\">\n",
              "    <title> TRIBUTE PAGE  </title>\n",
              "</head>\n"
            ]
          },
          "metadata": {}
        }
      ]
    },
    {
      "cell_type": "markdown",
      "source": [
        ".why is it improtant to follow this structure ?\n",
        "\n",
        " - Search engines like google use the structured information to rank your page .\n",
        " - Make your code cleaner, easier to read and easier for other to work on.\n",
        " - Ensures your page looks the same across the different browsers.\n"
      ],
      "metadata": {
        "id": "5VObWsJgMZtf"
      }
    },
    {
      "cell_type": "markdown",
      "source": [
        "________________________________________________________________________________"
      ],
      "metadata": {
        "id": "GZbV_pQ5xp1a"
      }
    },
    {
      "cell_type": "markdown",
      "source": [
        "Question 2. You are building a small personal profile page . Which HTML tags wwill you use to highlight your name as a heading , describing yourself in a paragraph and emphasize a key skill ?\n",
        "\n",
        "-  For a small profile page , this is how i can use the correct HTML tags:  \n",
        "   \n",
        "   - Name as a heading :- Use  \"heading\"  tags for main heading.\n",
        "   - Description about myself:- use \"paragraph\" tags for writing paragraph.\n",
        "   - Emphasize a key skill :- Use \"emphasis\" tags for  emphasis/italic/strong\n",
        "  "
      ],
      "metadata": {
        "id": "L1u-nXYiQh17"
      }
    },
    {
      "cell_type": "markdown",
      "source": [
        "________________________________________________________________________________"
      ],
      "metadata": {
        "id": "9MadoG1Ax293"
      }
    },
    {
      "cell_type": "markdown",
      "source": [
        "Question 3. Look at the code below . Can you find and fix the mistake ?\n",
        "   \n",
        "    <!-- This is an HTML comment\n",
        "    <h1>Welcome to my website </h1>\n",
        "\n",
        "-MISTAKE:\n",
        "\n",
        "   The HTML comment is written incorrectly . It should be <!--comment--> but here there is an extra space after <!\n",
        "\n",
        "   correct code :\n"
      ],
      "metadata": {
        "id": "KR0CiAYsuijl"
      }
    },
    {
      "cell_type": "code",
      "source": [
        "\n",
        "%%html\n",
        "<!-- This is an HTML comment -->\n",
        "<h1>Welcome to my website</h1>\n",
        "\n",
        "\n",
        "\n"
      ],
      "metadata": {
        "colab": {
          "base_uri": "https://localhost:8080/",
          "height": 74
        },
        "id": "y3PrY8b3wuOC",
        "outputId": "bffe1165-3ffd-42e3-b34e-36099eb8985d"
      },
      "execution_count": null,
      "outputs": [
        {
          "output_type": "display_data",
          "data": {
            "text/plain": [
              "<IPython.core.display.HTML object>"
            ],
            "text/html": [
              "<!-- This is an HTML comment -->\n",
              "<h1>Welcome to my website</h1>\n",
              "\n",
              "\n",
              "\n"
            ]
          },
          "metadata": {}
        }
      ]
    },
    {
      "cell_type": "markdown",
      "source": [
        "________________________________________________________________________________"
      ],
      "metadata": {
        "id": "MDnzk4xUyXrs"
      }
    },
    {
      "cell_type": "markdown",
      "source": [
        "Question 4. You are creating a form that asks the user to enter their name , select their country from a list , and click a button to submit . Write the HTML code for this ."
      ],
      "metadata": {
        "id": "uu-KO3kXyc0d"
      }
    },
    {
      "cell_type": "code",
      "source": [
        "%%html\n",
        "<!DOCTYPE html>\n",
        "<html lang=\"en\">\n",
        "<head>\n",
        "    <meta charset=\"UTF-8\">\n",
        "    <meta name=\"viewport\" content=\"width=device-width, initial-scale=1.0\">\n",
        "    <title> Simple User Form</title>\n",
        "</head>\n",
        "<body>\n",
        "  <form class = \"card\" id=\"user form\">\n",
        "    <h1> Tell us about yourself </h1>\n",
        "\n",
        "    <label for=\"name\">Full name </label>\n",
        "    <input type = \"text\" id=\"name\" name =\"name\" placeholder =\"e.g. xyz\">\n",
        "\n",
        "    <label for=\"country\">Country</label>\n",
        "    <select id =\"country\" name=\"country\">\n",
        "      <option value=\"India\">India </option>\n",
        "       <option value=\"United States\"> United States </option>\n",
        "        <option value=\"China\">China </option>\n",
        "         <option value=\"France\">France </option>\n",
        "          <option value=\"Germany\">Germany </option>\n",
        "           <option value=\"Spain\">Spain </option>\n",
        "           </select>\n",
        "           <br>\n",
        "\n",
        "           <button type=\"submit\">Submit</button>\n",
        "\n",
        "\n",
        "      </form>"
      ],
      "metadata": {
        "id": "c27_dbC5LKEQ",
        "colab": {
          "base_uri": "https://localhost:8080/",
          "height": 115
        },
        "outputId": "c0d62843-d51a-4424-e619-9cc33f4a8559"
      },
      "execution_count": 7,
      "outputs": [
        {
          "output_type": "display_data",
          "data": {
            "text/plain": [
              "<IPython.core.display.HTML object>"
            ],
            "text/html": [
              "<!DOCTYPE html>\n",
              "<html lang=\"en\">\n",
              "<head>\n",
              "    <meta charset=\"UTF-8\">\n",
              "    <meta name=\"viewport\" content=\"width=device-width, initial-scale=1.0\">\n",
              "    <title> Simple User Form</title>\n",
              "</head>\n",
              "<body>\n",
              "  <form class = \"card\" id=\"user form\">\n",
              "    <h1> Tell us about yourself </h1>\n",
              "\n",
              "    <label for=\"name\">Full name </label>\n",
              "    <input type = \"text\" id=\"name\" name =\"name\" placeholder =\"e.g. xyz\">\n",
              "\n",
              "    <label for=\"country\">Country</label>\n",
              "    <select id =\"country\" name=\"country\">\n",
              "      <option value=\"India\">India </option>\n",
              "       <option value=\"United States\"> United States </option>\n",
              "        <option value=\"China\">China </option>\n",
              "         <option value=\"France\">France </option>\n",
              "          <option value=\"Germany\">Germany </option>\n",
              "           <option value=\"Spain\">Spain </option>\n",
              "           </select>\n",
              "           <br>\n",
              "\n",
              "           <button type=\"submit\">Submit</button>\n",
              "\n",
              "\n",
              "      </form>\n"
            ]
          },
          "metadata": {}
        }
      ]
    },
    {
      "cell_type": "markdown",
      "source": [
        "________________________________________________________________________________"
      ],
      "metadata": {
        "id": "2OT1WSsJP-qi"
      }
    },
    {
      "cell_type": "markdown",
      "source": [
        "Question 5. Write short html code to show your favorite fruits in a bulleted list and your top 3 programming languages in a numbered list .\n",
        "\n",
        "-"
      ],
      "metadata": {
        "id": "hQoAIqQUQE2c"
      }
    },
    {
      "cell_type": "code",
      "source": [
        "%%html\n",
        "<!DOCTYPE html>\n",
        "<html lang=\"en\">\n",
        "<head>\n",
        "    <meta charset=\"UTF-8\">\n",
        "    <meta name=\"viewport\" content=\"width=device-width, initial-scale=1.0\">\n",
        "    <title>My favorites </title>\n",
        "</head>\n",
        "<body>\n",
        "  <strong> My favorite fruits:- </strong>\n",
        "  <ul>\n",
        "   <li> Apple </li>\n",
        "    <li>Lichi</li>\n",
        "    <li> Watermelon</li>\n",
        "    <li> Muskmelon</li>\n",
        "    <li> Grapes</li>\n",
        "    <li> Pomegranate</li>\n",
        "  </ul>\n",
        "  <br>\n",
        "\n",
        "     <strong>  My Top 3 Programming lamguage:-</strong>\n",
        "\n",
        "        <ol>\n",
        "          <li>Java</li>\n",
        "          <li>Python</li>\n",
        "          <li>Javascript</li>\n",
        "        </ol>\n",
        "\n",
        "  </body>"
      ],
      "metadata": {
        "colab": {
          "base_uri": "https://localhost:8080/",
          "height": 265
        },
        "id": "qyYFDNA_Qo6i",
        "outputId": "370ef384-48c5-4799-d21d-7199ff547719"
      },
      "execution_count": 15,
      "outputs": [
        {
          "output_type": "display_data",
          "data": {
            "text/plain": [
              "<IPython.core.display.HTML object>"
            ],
            "text/html": [
              "<!DOCTYPE html>\n",
              "<html lang=\"en\">\n",
              "<head>\n",
              "    <meta charset=\"UTF-8\">\n",
              "    <meta name=\"viewport\" content=\"width=device-width, initial-scale=1.0\">\n",
              "    <title>My favorites </title>\n",
              "</head>\n",
              "<body>\n",
              "  <strong> My favorite fruits:- </strong>\n",
              "  <ul>\n",
              "   <li> Apple </li>\n",
              "    <li>Lichi</li>\n",
              "    <li> Watermelon</li>\n",
              "    <li> Muskmelon</li>\n",
              "    <li> Grapes</li>\n",
              "    <li> Pomegranate</li>\n",
              "  </ul>\n",
              "  <br>\n",
              "      \n",
              "     <strong>  My Top 3 Programming lamguage:-</strong>\n",
              "\n",
              "        <ol>\n",
              "          <li>Java</li>\n",
              "          <li>Python</li>\n",
              "          <li>Javascript</li>\n",
              "        </ol>\n",
              "\n",
              "  </body>\n"
            ]
          },
          "metadata": {}
        }
      ]
    },
    {
      "cell_type": "markdown",
      "source": [
        "________________________________________________________________________________"
      ],
      "metadata": {
        "id": "kKDpKGPhTLhh"
      }
    },
    {
      "cell_type": "markdown",
      "source": [
        "Question 6. Ravi wants to leave a note in his Html file so that only other developers can see it , not the users on the website .how should he do this ? why are such notes useful?\n",
        "\n",
        "- Ravi can add a comment in his HTML file . In HTMl , comments are  written like this:\n"
      ],
      "metadata": {
        "id": "-dI-kqKjTOWE"
      }
    },
    {
      "cell_type": "code",
      "source": [
        "<!--this is a comment -->"
      ],
      "metadata": {
        "id": "O8ndRU6gVHrJ"
      },
      "execution_count": null,
      "outputs": []
    },
    {
      "cell_type": "markdown",
      "source": [
        "Anything inside the comment will not be displayed on the webpage .\n",
        "it will only be visible in the source code , so other developers can read it but users would not see it in the browser .\n",
        "\n",
        "\n",
        "Why are such notes useful:\n",
        "\n",
        "- It helps the developers understand sections of code quickly.\n",
        "- Useful when multiple user work on the same project .\n",
        "-  Reminds developers why a particular peice of code is written in cergtain way."
      ],
      "metadata": {
        "id": "U-w5erjeVOeI"
      }
    },
    {
      "cell_type": "markdown",
      "source": [
        "_______________________________________________________________________________\n"
      ],
      "metadata": {
        "id": "Z4nYDtpaWVmR"
      }
    },
    {
      "cell_type": "markdown",
      "source": [
        "Question 7. Here is a form snippet . Can you spot the error and rewrite the correct version?"
      ],
      "metadata": {
        "id": "cqxaFZuqWge2"
      }
    },
    {
      "cell_type": "code",
      "source": [
        " %%html\n",
        " <form>\n",
        " <input name=\"email\">\n",
        " <select>\n",
        " <option>India</option>\n",
        " </select>\n",
        " <button>Send</button>\n",
        " </form>"
      ],
      "metadata": {
        "id": "6WNlBJooWwW9"
      },
      "execution_count": null,
      "outputs": []
    },
    {
      "cell_type": "markdown",
      "source": [
        "correct version of the code is:"
      ],
      "metadata": {
        "id": "-ZJLq29gY1vV"
      }
    },
    {
      "cell_type": "code",
      "source": [
        " %%html\n",
        " <form>\n",
        " <input type=\"email\" name=\"email\"/>\n",
        " <select>\n",
        " <option>India</option>\n",
        " </select>\n",
        " <button>Send</button>\n",
        " </form>"
      ],
      "metadata": {
        "colab": {
          "base_uri": "https://localhost:8080/",
          "height": 38
        },
        "id": "o4hgh_YYZW61",
        "outputId": "f9fe15b0-5353-4a52-ff3d-ed1f39be7d3c"
      },
      "execution_count": 16,
      "outputs": [
        {
          "output_type": "display_data",
          "data": {
            "text/plain": [
              "<IPython.core.display.HTML object>"
            ],
            "text/html": [
              "<form>\n",
              "<input type=\"email\" name=\"email\"/>\n",
              "<select>\n",
              "<option>India</option>\n",
              "</select>\n",
              "<button>Send</button>\n",
              "</form>\n"
            ]
          },
          "metadata": {}
        }
      ]
    },
    {
      "cell_type": "markdown",
      "source": [
        "_______________________________________________________________________________"
      ],
      "metadata": {
        "id": "i3tYzIhqZhds"
      }
    }
  ]
}